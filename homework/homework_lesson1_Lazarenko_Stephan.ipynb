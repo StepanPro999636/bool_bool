{
  "nbformat": 4,
  "nbformat_minor": 0,
  "metadata": {
    "colab": {
      "provenance": [],
      "authorship_tag": "ABX9TyNKVbJuCx0wmUJ4ZqFy1ndj",
      "include_colab_link": true
    },
    "kernelspec": {
      "name": "python3",
      "display_name": "Python 3"
    },
    "language_info": {
      "name": "python"
    }
  },
  "cells": [
    {
      "cell_type": "markdown",
      "metadata": {
        "id": "view-in-github",
        "colab_type": "text"
      },
      "source": [
        "<a href=\"https://colab.research.google.com/github/StepanPro999636/bool_bool/blob/main/homework/homework_lesson1_Lazarenko_Stephan.ipynb\" target=\"_parent\"><img src=\"https://colab.research.google.com/assets/colab-badge.svg\" alt=\"Open In Colab\"/></a>"
      ]
    },
    {
      "cell_type": "code",
      "execution_count": 76,
      "metadata": {
        "colab": {
          "base_uri": "https://localhost:8080/"
        },
        "id": "iQEe9rBY6ihg",
        "outputId": "d9988081-8d55-4222-f613-50e4f93d9bf9"
      },
      "outputs": [
        {
          "output_type": "stream",
          "name": "stdout",
          "text": [
            "уравнение ax^2+bx+c=0\n",
            "Коэф. a:1\n",
            "Коэф. b:6\n",
            "Коэф. c:9\n",
            "(1x^2)+(6x)+(9)=0\n",
            "x=-3.0\n"
          ]
        }
      ],
      "source": [
        "#Задание 1\n",
        "\n",
        "print(\"уравнение ax^2+bx+c=0\")\n",
        "a = int(input(\"Коэф. a:\"))\n",
        "b = int(input(\"Коэф. b:\"))\n",
        "c = int(input(\"Коэф. c:\"))\n",
        "D = b**2-4*a*c\n",
        "if D>0:\n",
        "  print(f\"({a}x^2)+({b}x)+({c})=0\")\n",
        "  print(f\"x1= {(-b+D**0.5)/2*a}\")\n",
        "  print(f\"x2={(-b-D**0.5)/2*a}\")\n",
        "elif D==0:\n",
        "    print(f\"({a}x^2)+({b}x)+({c})=0\")\n",
        "    print(f\"x={(-b+D**0.5)/2*a}\")\n",
        "else:\n",
        "  print(\"Нет корней\")"
      ]
    },
    {
      "cell_type": "code",
      "source": [
        "#Задание 2\n",
        "\n",
        "a = []\n",
        "N = int(input(\"Введите число N: \"))\n",
        "for i in range(1,N+1):\n",
        "  a.append(i)\n",
        "print(f\"Сумма чисел от {1} до {N} равна {sum(a)}\")"
      ],
      "metadata": {
        "colab": {
          "base_uri": "https://localhost:8080/"
        },
        "id": "dXAMuD557NgA",
        "outputId": "abcbd5ed-f73a-460f-8e6d-d80d0b117974"
      },
      "execution_count": 77,
      "outputs": [
        {
          "output_type": "stream",
          "name": "stdout",
          "text": [
            "Введите число N: 69\n",
            "Сумма чисел от 1 до 69 равна 2415\n"
          ]
        }
      ]
    },
    {
      "cell_type": "code",
      "source": [
        "#Задание 3\n",
        "\n",
        "import math\n",
        "\n",
        "a = int(input(\"Введите номер квартиры: \"))\n",
        "print(f\"Подъезд: {math.ceil(a/20)}\")\n",
        "print(f\"Этаж: {math.ceil(a/math.ceil(a/20))}\") #Я так и не понял как искать этаж в доме, где больще 1 подъезда\n"
      ],
      "metadata": {
        "colab": {
          "base_uri": "https://localhost:8080/"
        },
        "id": "-mgvPhFq9yAC",
        "outputId": "14f77a95-9e40-4179-d252-b4e266f63bb0"
      },
      "execution_count": 78,
      "outputs": [
        {
          "output_type": "stream",
          "name": "stdout",
          "text": [
            "Введите номер квартиры: 69\n",
            "Подъезд: 4\n",
            "Этаж: 18\n"
          ]
        }
      ]
    }
  ]
}