{
 "cells": [
  {
   "cell_type": "markdown",
   "id": "e26c1e4a",
   "metadata": {},
   "source": [
    "Задание 1. Анализ Titanic\n",
    "\n",
    "Цель: исследовать набор данных и визуализировать базовые зависимости.\n",
    "\n",
    "    Загрузите датасет Titanic (через ссылку или seaborn.load_dataset('titanic')).\n",
    "    Постройте 3 разных типа графиков (на выбор: barplot, histplot, boxplot, countplot, scatterplot).\n",
    "    Каждый график должен отвечать на конкретный вопрос, например:\n",
    "        Сколько мужчин и женщин было на борту?\n",
    "        Как распределяется возраст по классам?\n",
    "        Есть ли связь между стоимостью билета и выживаемостью?\n",
    "\n",
    "Подсказка: используйте подписи осей, заголовки (plt.title) и добавьте короткие выводы в текстовой ячейке Markdown."
   ]
  },
  {
   "cell_type": "code",
   "execution_count": 4,
   "id": "84433f9e",
   "metadata": {},
   "outputs": [
    {
     "data": {
      "application/vnd.microsoft.datawrangler.viewer.v0+json": {
       "columns": [
        {
         "name": "index",
         "rawType": "int64",
         "type": "integer"
        },
        {
         "name": "PassengerId",
         "rawType": "int64",
         "type": "integer"
        },
        {
         "name": "Survived",
         "rawType": "int64",
         "type": "integer"
        },
        {
         "name": "Pclass",
         "rawType": "int64",
         "type": "integer"
        },
        {
         "name": "Name",
         "rawType": "object",
         "type": "string"
        },
        {
         "name": "Sex",
         "rawType": "object",
         "type": "string"
        },
        {
         "name": "Age",
         "rawType": "float64",
         "type": "float"
        },
        {
         "name": "SibSp",
         "rawType": "int64",
         "type": "integer"
        },
        {
         "name": "Parch",
         "rawType": "int64",
         "type": "integer"
        },
        {
         "name": "Ticket",
         "rawType": "object",
         "type": "string"
        },
        {
         "name": "Fare",
         "rawType": "float64",
         "type": "float"
        },
        {
         "name": "Cabin",
         "rawType": "object",
         "type": "unknown"
        },
        {
         "name": "Embarked",
         "rawType": "object",
         "type": "unknown"
        }
       ],
       "ref": "171f00b2-afc2-4a6b-a682-26d6b41c1c34",
       "rows": [
        [
         "0",
         "1",
         "0",
         "3",
         "Braund, Mr. Owen Harris",
         "male",
         "22.0",
         "1",
         "0",
         "A/5 21171",
         "7.25",
         null,
         "S"
        ],
        [
         "1",
         "2",
         "1",
         "1",
         "Cumings, Mrs. John Bradley (Florence Briggs Thayer)",
         "female",
         "38.0",
         "1",
         "0",
         "PC 17599",
         "71.2833",
         "C85",
         "C"
        ],
        [
         "2",
         "3",
         "1",
         "3",
         "Heikkinen, Miss Laina",
         "female",
         "26.0",
         "0",
         "0",
         "STON/O2. 3101282",
         "7.925",
         null,
         "S"
        ],
        [
         "3",
         "4",
         "1",
         "1",
         "Futrelle, Mrs. Jacques Heath (Lily May Peel)",
         "female",
         "35.0",
         "1",
         "0",
         "113803",
         "53.1",
         "C123",
         "S"
        ],
        [
         "4",
         "5",
         "0",
         "3",
         "Allen, Mr. William Henry",
         "male",
         "35.0",
         "0",
         "0",
         "373450",
         "8.05",
         null,
         "S"
        ],
        [
         "5",
         "6",
         "0",
         "3",
         "Moran, Mr. James",
         "male",
         null,
         "0",
         "0",
         "330877",
         "8.4583",
         null,
         "Q"
        ],
        [
         "6",
         "7",
         "0",
         "1",
         "McCarthy, Mr. Timothy J",
         "male",
         "54.0",
         "0",
         "0",
         "17463",
         "51.8625",
         "E46",
         "S"
        ],
        [
         "7",
         "8",
         "0",
         "3",
         "Palsson, Master Gosta Leonard",
         "male",
         "2.0",
         "3",
         "1",
         "349909",
         "21.075",
         null,
         "S"
        ],
        [
         "8",
         "9",
         "1",
         "3",
         "Johnson, Mrs. Oscar W (Elisabeth Vilhelmina Berg)",
         "female",
         "27.0",
         "0",
         "2",
         "347742",
         "11.1333",
         null,
         "S"
        ],
        [
         "9",
         "10",
         "1",
         "2",
         "Nasser, Mrs. Nicholas (Adele Achem)",
         "female",
         "14.0",
         "1",
         "0",
         "237736",
         "30.0708",
         null,
         "C"
        ],
        [
         "10",
         "11",
         "1",
         "3",
         "Sandstrom, Miss Marguerite Rut",
         "female",
         "4.0",
         "1",
         "1",
         "PP 9549",
         "16.7",
         "G6",
         "S"
        ],
        [
         "11",
         "12",
         "1",
         "1",
         "Bonnell, Miss Elizabeth",
         "female",
         "58.0",
         "0",
         "0",
         "113783",
         "26.55",
         "C103",
         "S"
        ],
        [
         "12",
         "13",
         "0",
         "3",
         "Saundercock, Mr. William Henry",
         "male",
         "20.0",
         "0",
         "0",
         "A/5. 2151",
         "8.05",
         null,
         "S"
        ],
        [
         "13",
         "14",
         "0",
         "3",
         "Andersson, Mr. Anders Johan",
         "male",
         "39.0",
         "1",
         "5",
         "347082",
         "31.275",
         null,
         "S"
        ],
        [
         "14",
         "15",
         "0",
         "3",
         "Vestrom, Miss Hulda Amanda Adolfina",
         "female",
         "14.0",
         "0",
         "0",
         "350406",
         "7.8542",
         null,
         "S"
        ],
        [
         "15",
         "16",
         "1",
         "2",
         "Hewlett, Mrs. (Mary D Kingcome) ",
         "female",
         "55.0",
         "0",
         "0",
         "248706",
         "16.0",
         null,
         "S"
        ],
        [
         "16",
         "17",
         "0",
         "3",
         "Rice, Master Eugene",
         "male",
         "2.0",
         "4",
         "1",
         "382652",
         "29.125",
         null,
         "Q"
        ],
        [
         "17",
         "18",
         "1",
         "2",
         "Williams, Mr. Charles Eugene",
         "male",
         null,
         "0",
         "0",
         "244373",
         "13.0",
         null,
         "S"
        ],
        [
         "18",
         "19",
         "0",
         "3",
         "Vander Planke, Mrs. Julius (Emelia Maria Vandemoortele)",
         "female",
         "31.0",
         "1",
         "0",
         "345763",
         "18.0",
         null,
         "S"
        ],
        [
         "19",
         "20",
         "1",
         "3",
         "Masselmani, Mrs. Fatima",
         "female",
         null,
         "0",
         "0",
         "2649",
         "7.225",
         null,
         "C"
        ],
        [
         "20",
         "21",
         "0",
         "2",
         "Fynney, Mr. Joseph J",
         "male",
         "35.0",
         "0",
         "0",
         "239865",
         "26.0",
         null,
         "S"
        ],
        [
         "21",
         "22",
         "1",
         "2",
         "Beesley, Mr. Lawrence",
         "male",
         "34.0",
         "0",
         "0",
         "248698",
         "13.0",
         "D56",
         "S"
        ],
        [
         "22",
         "23",
         "1",
         "3",
         "McGowan, Miss Anna \"Annie\"",
         "female",
         "15.0",
         "0",
         "0",
         "330923",
         "8.0292",
         null,
         "Q"
        ],
        [
         "23",
         "24",
         "1",
         "1",
         "Sloper, Mr. William Thompson",
         "male",
         "28.0",
         "0",
         "0",
         "113788",
         "35.5",
         "A6",
         "S"
        ],
        [
         "24",
         "25",
         "0",
         "3",
         "Palsson, Miss Torborg Danira",
         "female",
         "8.0",
         "3",
         "1",
         "349909",
         "21.075",
         null,
         "S"
        ],
        [
         "25",
         "26",
         "1",
         "3",
         "Asplund, Mrs. Carl Oscar (Selma Augusta Emilia Johansson)",
         "female",
         "38.0",
         "1",
         "5",
         "347077",
         "31.3875",
         null,
         "S"
        ],
        [
         "26",
         "27",
         "0",
         "3",
         "Emir, Mr. Farred Chehab",
         "male",
         null,
         "0",
         "0",
         "2631",
         "7.225",
         null,
         "C"
        ],
        [
         "27",
         "28",
         "0",
         "1",
         "Fortune, Mr. Charles Alexander",
         "male",
         "19.0",
         "3",
         "2",
         "19950",
         "263.0",
         "C23 C25 C27",
         "S"
        ],
        [
         "28",
         "29",
         "1",
         "3",
         "O'Dwyer, Miss Ellen \"Nellie\"",
         "female",
         null,
         "0",
         "0",
         "330959",
         "7.8792",
         null,
         "Q"
        ],
        [
         "29",
         "30",
         "0",
         "3",
         "Todoroff, Mr. Lalio",
         "male",
         null,
         "0",
         "0",
         "349216",
         "7.8958",
         null,
         "S"
        ],
        [
         "30",
         "31",
         "0",
         "1",
         "Uruchurtu, Don. Manuel E",
         "male",
         "40.0",
         "0",
         "0",
         "PC 17601",
         "27.7208",
         null,
         "C"
        ],
        [
         "31",
         "32",
         "1",
         "1",
         "Spencer, Mrs. William Augustus (Marie Eugenie)",
         "female",
         null,
         "1",
         "0",
         "PC 17569",
         "146.5208",
         "B78",
         "C"
        ],
        [
         "32",
         "33",
         "1",
         "3",
         "Glynn, Miss Mary Agatha",
         "female",
         null,
         "0",
         "0",
         "335677",
         "7.75",
         null,
         "Q"
        ],
        [
         "33",
         "34",
         "0",
         "2",
         "Wheadon, Mr. Edward H",
         "male",
         "66.0",
         "0",
         "0",
         "C.A. 24579",
         "10.5",
         null,
         "S"
        ],
        [
         "34",
         "35",
         "0",
         "1",
         "Meyer, Mr. Edgar Joseph",
         "male",
         "28.0",
         "1",
         "0",
         "PC 17604",
         "82.1708",
         null,
         "C"
        ],
        [
         "35",
         "36",
         "0",
         "1",
         "Holverson, Mr. Alexander Oskar",
         "male",
         "42.0",
         "1",
         "0",
         "113789",
         "52.0",
         null,
         "S"
        ],
        [
         "36",
         "37",
         "1",
         "3",
         "Mamee, Mr. Hanna",
         "male",
         null,
         "0",
         "0",
         "2677",
         "7.2292",
         null,
         "C"
        ],
        [
         "37",
         "38",
         "0",
         "3",
         "Cann, Mr. Ernest Charles",
         "male",
         "21.0",
         "0",
         "0",
         "A./5. 2152",
         "8.05",
         null,
         "S"
        ],
        [
         "38",
         "39",
         "0",
         "3",
         "Vander Planke, Miss Augusta Maria",
         "female",
         "18.0",
         "2",
         "0",
         "345764",
         "18.0",
         null,
         "S"
        ],
        [
         "39",
         "40",
         "1",
         "3",
         "Nicola-Yarred, Miss Jamila",
         "female",
         "14.0",
         "1",
         "0",
         "2651",
         "11.2417",
         null,
         "C"
        ],
        [
         "40",
         "41",
         "0",
         "3",
         "Ahlin, Mrs. Johan (Johanna Persdotter Larsson)",
         "female",
         "40.0",
         "1",
         "0",
         "7546",
         "9.475",
         null,
         "S"
        ],
        [
         "41",
         "42",
         "0",
         "2",
         "Turpin, Mrs. William John Robert (Dorothy Ann Wonnacott)",
         "female",
         "27.0",
         "1",
         "0",
         "11668",
         "21.0",
         null,
         "S"
        ],
        [
         "42",
         "43",
         "0",
         "3",
         "Kraeff, Mr. Theodor",
         "male",
         null,
         "0",
         "0",
         "349253",
         "7.8958",
         null,
         "C"
        ],
        [
         "43",
         "44",
         "1",
         "2",
         "Laroche, Miss Simonne Marie Anne Andree",
         "female",
         "3.0",
         "1",
         "2",
         "SC/Paris 2123",
         "41.5792",
         null,
         "C"
        ],
        [
         "44",
         "45",
         "1",
         "3",
         "Devaney, Miss Margaret Delia",
         "female",
         "19.0",
         "0",
         "0",
         "330958",
         "7.8792",
         null,
         "Q"
        ],
        [
         "45",
         "46",
         "0",
         "3",
         "Rogers, Mr. William John",
         "male",
         null,
         "0",
         "0",
         "S.C./A.4. 23567",
         "8.05",
         null,
         "S"
        ],
        [
         "46",
         "47",
         "0",
         "3",
         "Lennon, Mr. Denis",
         "male",
         null,
         "1",
         "0",
         "370371",
         "15.5",
         null,
         "Q"
        ],
        [
         "47",
         "48",
         "1",
         "3",
         "O'Driscoll, Miss Bridget",
         "female",
         null,
         "0",
         "0",
         "14311",
         "7.75",
         null,
         "Q"
        ],
        [
         "48",
         "49",
         "0",
         "3",
         "Samaan, Mr. Youssef",
         "male",
         null,
         "2",
         "0",
         "2662",
         "21.6792",
         null,
         "C"
        ],
        [
         "49",
         "50",
         "0",
         "3",
         "Arnold-Franchi, Mrs. Josef (Josefine Franchi)",
         "female",
         "18.0",
         "1",
         "0",
         "349237",
         "17.8",
         null,
         "S"
        ]
       ],
       "shape": {
        "columns": 12,
        "rows": 891
       }
      },
      "text/html": [
       "<div>\n",
       "<style scoped>\n",
       "    .dataframe tbody tr th:only-of-type {\n",
       "        vertical-align: middle;\n",
       "    }\n",
       "\n",
       "    .dataframe tbody tr th {\n",
       "        vertical-align: top;\n",
       "    }\n",
       "\n",
       "    .dataframe thead th {\n",
       "        text-align: right;\n",
       "    }\n",
       "</style>\n",
       "<table border=\"1\" class=\"dataframe\">\n",
       "  <thead>\n",
       "    <tr style=\"text-align: right;\">\n",
       "      <th></th>\n",
       "      <th>PassengerId</th>\n",
       "      <th>Survived</th>\n",
       "      <th>Pclass</th>\n",
       "      <th>Name</th>\n",
       "      <th>Sex</th>\n",
       "      <th>Age</th>\n",
       "      <th>SibSp</th>\n",
       "      <th>Parch</th>\n",
       "      <th>Ticket</th>\n",
       "      <th>Fare</th>\n",
       "      <th>Cabin</th>\n",
       "      <th>Embarked</th>\n",
       "    </tr>\n",
       "  </thead>\n",
       "  <tbody>\n",
       "    <tr>\n",
       "      <th>0</th>\n",
       "      <td>1</td>\n",
       "      <td>0</td>\n",
       "      <td>3</td>\n",
       "      <td>Braund, Mr. Owen Harris</td>\n",
       "      <td>male</td>\n",
       "      <td>22.0</td>\n",
       "      <td>1</td>\n",
       "      <td>0</td>\n",
       "      <td>A/5 21171</td>\n",
       "      <td>7.2500</td>\n",
       "      <td>NaN</td>\n",
       "      <td>S</td>\n",
       "    </tr>\n",
       "    <tr>\n",
       "      <th>1</th>\n",
       "      <td>2</td>\n",
       "      <td>1</td>\n",
       "      <td>1</td>\n",
       "      <td>Cumings, Mrs. John Bradley (Florence Briggs Th...</td>\n",
       "      <td>female</td>\n",
       "      <td>38.0</td>\n",
       "      <td>1</td>\n",
       "      <td>0</td>\n",
       "      <td>PC 17599</td>\n",
       "      <td>71.2833</td>\n",
       "      <td>C85</td>\n",
       "      <td>C</td>\n",
       "    </tr>\n",
       "    <tr>\n",
       "      <th>2</th>\n",
       "      <td>3</td>\n",
       "      <td>1</td>\n",
       "      <td>3</td>\n",
       "      <td>Heikkinen, Miss Laina</td>\n",
       "      <td>female</td>\n",
       "      <td>26.0</td>\n",
       "      <td>0</td>\n",
       "      <td>0</td>\n",
       "      <td>STON/O2. 3101282</td>\n",
       "      <td>7.9250</td>\n",
       "      <td>NaN</td>\n",
       "      <td>S</td>\n",
       "    </tr>\n",
       "    <tr>\n",
       "      <th>3</th>\n",
       "      <td>4</td>\n",
       "      <td>1</td>\n",
       "      <td>1</td>\n",
       "      <td>Futrelle, Mrs. Jacques Heath (Lily May Peel)</td>\n",
       "      <td>female</td>\n",
       "      <td>35.0</td>\n",
       "      <td>1</td>\n",
       "      <td>0</td>\n",
       "      <td>113803</td>\n",
       "      <td>53.1000</td>\n",
       "      <td>C123</td>\n",
       "      <td>S</td>\n",
       "    </tr>\n",
       "    <tr>\n",
       "      <th>4</th>\n",
       "      <td>5</td>\n",
       "      <td>0</td>\n",
       "      <td>3</td>\n",
       "      <td>Allen, Mr. William Henry</td>\n",
       "      <td>male</td>\n",
       "      <td>35.0</td>\n",
       "      <td>0</td>\n",
       "      <td>0</td>\n",
       "      <td>373450</td>\n",
       "      <td>8.0500</td>\n",
       "      <td>NaN</td>\n",
       "      <td>S</td>\n",
       "    </tr>\n",
       "    <tr>\n",
       "      <th>...</th>\n",
       "      <td>...</td>\n",
       "      <td>...</td>\n",
       "      <td>...</td>\n",
       "      <td>...</td>\n",
       "      <td>...</td>\n",
       "      <td>...</td>\n",
       "      <td>...</td>\n",
       "      <td>...</td>\n",
       "      <td>...</td>\n",
       "      <td>...</td>\n",
       "      <td>...</td>\n",
       "      <td>...</td>\n",
       "    </tr>\n",
       "    <tr>\n",
       "      <th>886</th>\n",
       "      <td>887</td>\n",
       "      <td>0</td>\n",
       "      <td>2</td>\n",
       "      <td>Montvila, Rev. Juozas</td>\n",
       "      <td>male</td>\n",
       "      <td>27.0</td>\n",
       "      <td>0</td>\n",
       "      <td>0</td>\n",
       "      <td>211536</td>\n",
       "      <td>13.0000</td>\n",
       "      <td>NaN</td>\n",
       "      <td>S</td>\n",
       "    </tr>\n",
       "    <tr>\n",
       "      <th>887</th>\n",
       "      <td>888</td>\n",
       "      <td>1</td>\n",
       "      <td>1</td>\n",
       "      <td>Graham, Miss Margaret Edith</td>\n",
       "      <td>female</td>\n",
       "      <td>19.0</td>\n",
       "      <td>0</td>\n",
       "      <td>0</td>\n",
       "      <td>112053</td>\n",
       "      <td>30.0000</td>\n",
       "      <td>B42</td>\n",
       "      <td>S</td>\n",
       "    </tr>\n",
       "    <tr>\n",
       "      <th>888</th>\n",
       "      <td>889</td>\n",
       "      <td>0</td>\n",
       "      <td>3</td>\n",
       "      <td>Johnston, Miss Catherine Helen \"Carrie\"</td>\n",
       "      <td>female</td>\n",
       "      <td>NaN</td>\n",
       "      <td>1</td>\n",
       "      <td>2</td>\n",
       "      <td>W./C. 6607</td>\n",
       "      <td>23.4500</td>\n",
       "      <td>NaN</td>\n",
       "      <td>S</td>\n",
       "    </tr>\n",
       "    <tr>\n",
       "      <th>889</th>\n",
       "      <td>890</td>\n",
       "      <td>1</td>\n",
       "      <td>1</td>\n",
       "      <td>Behr, Mr. Karl Howell</td>\n",
       "      <td>male</td>\n",
       "      <td>26.0</td>\n",
       "      <td>0</td>\n",
       "      <td>0</td>\n",
       "      <td>111369</td>\n",
       "      <td>30.0000</td>\n",
       "      <td>C148</td>\n",
       "      <td>C</td>\n",
       "    </tr>\n",
       "    <tr>\n",
       "      <th>890</th>\n",
       "      <td>891</td>\n",
       "      <td>0</td>\n",
       "      <td>3</td>\n",
       "      <td>Dooley, Mr. Patrick</td>\n",
       "      <td>male</td>\n",
       "      <td>32.0</td>\n",
       "      <td>0</td>\n",
       "      <td>0</td>\n",
       "      <td>370376</td>\n",
       "      <td>7.7500</td>\n",
       "      <td>NaN</td>\n",
       "      <td>Q</td>\n",
       "    </tr>\n",
       "  </tbody>\n",
       "</table>\n",
       "<p>891 rows × 12 columns</p>\n",
       "</div>"
      ],
      "text/plain": [
       "     PassengerId  Survived  Pclass  \\\n",
       "0              1         0       3   \n",
       "1              2         1       1   \n",
       "2              3         1       3   \n",
       "3              4         1       1   \n",
       "4              5         0       3   \n",
       "..           ...       ...     ...   \n",
       "886          887         0       2   \n",
       "887          888         1       1   \n",
       "888          889         0       3   \n",
       "889          890         1       1   \n",
       "890          891         0       3   \n",
       "\n",
       "                                                  Name     Sex   Age  SibSp  \\\n",
       "0                              Braund, Mr. Owen Harris    male  22.0      1   \n",
       "1    Cumings, Mrs. John Bradley (Florence Briggs Th...  female  38.0      1   \n",
       "2                                Heikkinen, Miss Laina  female  26.0      0   \n",
       "3         Futrelle, Mrs. Jacques Heath (Lily May Peel)  female  35.0      1   \n",
       "4                             Allen, Mr. William Henry    male  35.0      0   \n",
       "..                                                 ...     ...   ...    ...   \n",
       "886                              Montvila, Rev. Juozas    male  27.0      0   \n",
       "887                        Graham, Miss Margaret Edith  female  19.0      0   \n",
       "888            Johnston, Miss Catherine Helen \"Carrie\"  female   NaN      1   \n",
       "889                              Behr, Mr. Karl Howell    male  26.0      0   \n",
       "890                                Dooley, Mr. Patrick    male  32.0      0   \n",
       "\n",
       "     Parch            Ticket     Fare Cabin Embarked  \n",
       "0        0         A/5 21171   7.2500   NaN        S  \n",
       "1        0          PC 17599  71.2833   C85        C  \n",
       "2        0  STON/O2. 3101282   7.9250   NaN        S  \n",
       "3        0            113803  53.1000  C123        S  \n",
       "4        0            373450   8.0500   NaN        S  \n",
       "..     ...               ...      ...   ...      ...  \n",
       "886      0            211536  13.0000   NaN        S  \n",
       "887      0            112053  30.0000   B42        S  \n",
       "888      2        W./C. 6607  23.4500   NaN        S  \n",
       "889      0            111369  30.0000  C148        C  \n",
       "890      0            370376   7.7500   NaN        Q  \n",
       "\n",
       "[891 rows x 12 columns]"
      ]
     },
     "execution_count": 121,
     "metadata": {},
     "output_type": "execute_result"
    }
   ],
   "source": [
    "import pandas as pd\n",
    "import numpy as np\n",
    "import seaborn as sns\n",
    "import  matplotlib.pyplot as plt\n",
    "url = \"https://raw.githubusercontent.com/pandas-dev/pandas/master/doc/data/titanic.csv\"\n",
    "tit = pd.read_csv(url)\n",
    "tit"
   ]
  },
  {
   "cell_type": "code",
   "execution_count": 5,
   "id": "dc67e72e",
   "metadata": {},
   "outputs": [
    {
     "data": {
      "image/png": "[encoded data removed]",
      "text/plain": [
       "<Figure size 640x480 with 1 Axes>"
      ]
     },
     "metadata": {},
     "output_type": "display_data"
    }
   ],
   "source": [
    "male = tit['Sex'].value_counts()[\"male\"]\n",
    "female = tit['Sex'].value_counts()[\"female\"]\n",
    "object = [\"Мужчины\",\"Женщины\"]\n",
    "perfomance = [male,female]\n",
    "plt.title(\"Количество мужчин и женщин на борту\")\n",
    "plt.ylabel(\"Количество человек\")\n",
    "plt.bar(object, perfomance, color=[\"LightBlue\",\"Pink\"])\n",
    "plt.show()"
   ]
  },
  {
   "cell_type": "code",
   "execution_count": 207,
   "id": "89b6e090",
   "metadata": {},
   "outputs": [
    {
     "data": {
      "image/png": "[encoded data removed]",
      "text/plain": [
       "<Figure size 500x1400 with 1 Axes>"
      ]
     },
     "metadata": {},
     "output_type": "display_data"
    }
   ],
   "source": [
    "tit['Age'] = tit['Age'].fillna(tit['Age'].median()) #Заполнить возраст медианным значением\n",
    "\n",
    "plt.figure(figsize=(5,14))\n",
    "plt.minorticks_on() #отображение сетки по нецелым значениям\n",
    "plt.grid(which='minor',axis=\"y\")\n",
    "plt.grid(which='major',axis=\"y\",linewidth=2)\n",
    "plt.scatter(tit['Pclass'], tit['Age'],s=20)\n",
    "plt.xticks(np.arange(1, 4, 1)) # удаление промежуточных значений между числовыми значениями классов\n",
    "plt.xlabel('Класс')\n",
    "plt.ylabel('Возраст')\n",
    "plt.yticks(np.arange(0,max(tit[\"Age\"])+10,5))\n",
    "plt.title('Зависимость класса и возраста')\n",
    "plt.show()"
   ]
  },
  {
   "cell_type": "code",
   "execution_count": 7,
   "id": "60e92aeb",
   "metadata": {},
   "outputs": [
    {
     "data": {
      "image/png": "[encoded data removed]",
      "text/plain": [
       "<Figure size 2000x200 with 1 Axes>"
      ]
     },
     "metadata": {},
     "output_type": "display_data"
    }
   ],
   "source": [
    "plt.figure(figsize=(20, 2))\n",
    "sns.scatterplot(\n",
    "    x='Fare', \n",
    "    y='Survived', \n",
    "    data=tit, \n",
    "    hue='Survived', # Раскрашиваем точки в зависимости от статуса выживания\n",
    "    palette={0: 'red', 1: 'green'},\n",
    "    s=50, # Размер точек\n",
    ")\n",
    "plt.title('Зависимость выживаемости от стоимости билета')\n",
    "plt.xlabel('Стоимость билета')\n",
    "plt.ylabel('Выжил?')\n",
    "plt.yticks([0, 1])\n",
    "plt.minorticks_on()\n",
    "plt.grid(which='major')\n",
    "plt.grid(which='minor')\n",
    "plt.show()"
   ]
  },
  {
   "cell_type": "markdown",
   "id": "b55333b0",
   "metadata": {},
   "source": [
    "Задание 2. Сравнение библиотек Matplotlib и Seaborn\n",
    "\n",
    "Цель: понять, как отличаются подходы двух библиотек.\n",
    "\n",
    "    Постройте один и тот же график (например, распределение возраста пассажиров)\n",
    "    сначала с помощью matplotlib, затем с помощью seaborn.\n",
    "    Сравните код — что проще? где понятнее результат?\n",
    "    Добавьте короткий комментарий с вашим мнением.\n"
   ]
  },
  {
   "cell_type": "code",
   "execution_count": 8,
   "id": "aca2abac",
   "metadata": {},
   "outputs": [
    {
     "data": {
      "image/png": "[encoded data removed]",
      "text/plain": [
       "<Figure size 640x480 with 1 Axes>"
      ]
     },
     "metadata": {},
     "output_type": "display_data"
    }
   ],
   "source": [
    "#Через matplotlib\n",
    "\n",
    "surv_0 = tit['Survived'].value_counts()[0]\n",
    "surv_1 = tit['Survived'].value_counts()[1]\n",
    "plt.bar([\"Выжили\",\"Невыжили\"],[surv_1,surv_0])\n",
    "plt.minorticks_on()\n",
    "plt.title(\"Выживаемость\")\n",
    "plt.grid(which=\"major\", axis=\"y\")\n",
    "plt.grid(which=\"minor\", axis=\"y\")\n",
    "plt.show()"
   ]
  },
  {
   "cell_type": "code",
   "execution_count": null,
   "id": "83ea94e8",
   "metadata": {},
   "outputs": [
    {
     "data": {
      "image/png": "[encoded data removed]",
      "text/plain": [
       "<Figure size 640x480 with 1 Axes>"
      ]
     },
     "metadata": {},
     "output_type": "display_data"
    }
   ],
   "source": [
    "#Через seaborn\n",
    "\n",
    "sns.set(style=\"whitegrid\")\n",
    "sns.countplot(x='Survived', data=tit)\n",
    "plt.title(\"Выживаемость пассажиров\")\n",
    "plt.show()"
   ]
  },
  {
   "cell_type": "markdown",
   "id": "62ed2256",
   "metadata": {},
   "source": [
    "Seaborn локаничнее и проще, но matplotlib более тонкий в настройке. В понятности выигрывает matplotlib (по личным впечатлениям)"
   ]
  },
  {
   "cell_type": "markdown",
   "id": "f252cf39",
   "metadata": {},
   "source": [
    "Задание 3. Мини-проект: «Что влияет на выживаемость?»\n",
    "\n",
    "Цель: применить визуализацию для анализа зависимостей.\n",
    "\n",
    "    Проанализируйте, какие признаки могли повлиять на выживаемость (Survived):\n",
    "\n",
    "    Пол (Sex)\n",
    "    Класс (Pclass)\n",
    "    Возраст (Age)\n",
    "    Стоимость билета (Fare)\n",
    "\n",
    "    Постройте минимум 2 графика, которые помогут сделать вывод.\n",
    "\n",
    "    Сформулируйте короткий вывод (2–3 предложения) в текстовой ячейке:\n",
    "\n",
    "    Кто имел больше шансов выжить?\n",
    "    Есть ли заметные различия между группами?\n",
    "\n",
    "Подсказка: можно использовать sns.barplot, sns.violinplot или sns.boxplot."
   ]
  },
  {
   "cell_type": "code",
   "execution_count": null,
   "id": "f9988915",
   "metadata": {},
   "outputs": [
    {
     "name": "stderr",
     "output_type": "stream",
     "text": [
      "C:\\Users\\stepg\\AppData\\Local\\Temp\\ipykernel_17964\\4033913028.py:8: FutureWarning: \n",
      "\n",
      "Passing `palette` without assigning `hue` is deprecated and will be removed in v0.14.0. Assign the `x` variable to `hue` and set `legend=False` for the same effect.\n",
      "\n",
      "  sns.barplot(tit,x=tit[\"Sex\"],y=tit[\"Survived\"],palette=[\"Blue\",\"Pink\"], estimator=sum)\n"
     ]
    },
    {
     "name": "stdout",
     "output_type": "stream",
     "text": [
      "Выжило больше женщин, чем мужчин: 233\n"
     ]
    },
    {
     "data": {
      "image/png": "[encoded data removed]",
      "text/plain": [
       "<Figure size 400x500 with 1 Axes>"
      ]
     },
     "metadata": {},
     "output_type": "display_data"
    }
   ],
   "source": [
    "plt.figure(figsize=[4,5])\n",
    "plt.title(\"Выживаемость полов\")\n",
    "plt.minorticks_on()\n",
    "plt.ylabel(\"Количество выживших\")\n",
    "plt.yticks(np.arange(0,tit[\"Survived\"].sum()+10,20))\n",
    "plt.grid(axis=\"y\",which=\"minor\")\n",
    "plt.xlabel(\"Пол\")\n",
    "sns.barplot(tit,x=tit[\"Sex\"],y=tit[\"Survived\"],palette=[\"Blue\",\"Pink\"], estimator=sum) #отображение общего количества выживших по y и полов по x\n",
    "\n",
    "#не особо нужный код, но он автоматизирует определение наибольшего количества выживших в определённом поле\n",
    "if tit.groupby('Sex')['Survived'].sum()[\"female\"] > tit.groupby('Sex')['Survived'].sum()[\"male\"]:\n",
    "    print(f\"Выжило больше женщин, чем мужчин: {max([tit.groupby('Sex')['Survived'].sum()[\"female\"],tit.groupby('Sex')['Survived'].sum()[\"male\"]])}\")\n",
    "elif tit.groupby('Sex')['Survived'].sum()[\"female\"] < tit.groupby('Sex')['Survived'].sum()[\"male\"]:\n",
    "    print(f\"Выжило больше мужчин, чем женщин: {min([tit.groupby('Sex')['Survived'].sum()[\"female\"],tit.groupby('Sex')['Survived'].sum()[\"male\"]])}\")\n",
    "else:\n",
    "    print(\"Выжило равное количество\")\n"
   ]
  },
  {
   "cell_type": "code",
   "execution_count": 258,
   "id": "0d46f06d",
   "metadata": {},
   "outputs": [
    {
     "name": "stderr",
     "output_type": "stream",
     "text": [
      "C:\\Users\\stepg\\AppData\\Local\\Temp\\ipykernel_17964\\834971848.py:8: FutureWarning: \n",
      "\n",
      "Passing `palette` without assigning `hue` is deprecated and will be removed in v0.14.0. Assign the `x` variable to `hue` and set `legend=False` for the same effect.\n",
      "\n",
      "  sns.barplot(tit,x=tit[\"Pclass\"],y=tit[\"Survived\"],palette=[\"Red\",\"Yellow\",\"Grey\"], estimator=sum)\n"
     ]
    },
    {
     "name": "stdout",
     "output_type": "stream",
     "text": [
      "Наибольшая выживаемость у 1'го класса: 136\n"
     ]
    },
    {
     "data": {
      "image/png": "[encoded data removed]",
      "text/plain": [
       "<Figure size 400x500 with 1 Axes>"
      ]
     },
     "metadata": {},
     "output_type": "display_data"
    }
   ],
   "source": [
    "plt.figure(figsize=[4,5])\n",
    "plt.title(\"Выживаемость по классам\")\n",
    "plt.minorticks_on()\n",
    "plt.ylabel(\"Количество выживших\")\n",
    "plt.yticks(np.arange(0,tit[\"Survived\"].sum(),20))\n",
    "plt.grid(axis=\"y\",which=\"minor\")\n",
    "plt.xlabel(\"Класс\")\n",
    "sns.barplot(tit,x=tit[\"Pclass\"],y=tit[\"Survived\"],palette=[\"Red\",\"Yellow\",\"Grey\"], estimator=sum)\n",
    "\n",
    "#аналогично предыдущей диаграмме. автоматизация определения самого живучего класса\n",
    "maxlst = []\n",
    "for i in range(min(tit.groupby('Pclass')['Survived'].sum().keys()),max(tit.groupby('Pclass')['Survived'].sum().keys())+1):\n",
    "    maxlst.append(tit.groupby('Pclass')['Survived'].sum()[i])\n",
    "spis = [\n",
    "    pclass\n",
    "    for pclass, count in tit.groupby('Pclass')['Survived'].sum().to_dict().items() \n",
    "    if count == max(maxlst)\n",
    "]\n",
    "print(f\"Наибольшая выживаемость у {spis[0]}'го класса: {max(maxlst)}\")\n"
   ]
  },
  {
   "cell_type": "code",
   "execution_count": 271,
   "id": "6c438490",
   "metadata": {},
   "outputs": [
    {
     "data": {
      "image/png": "[encoded data removed]",
      "text/plain": [
       "<Figure size 800x600 with 1 Axes>"
      ]
     },
     "metadata": {},
     "output_type": "display_data"
    },
    {
     "name": "stdout",
     "output_type": "stream",
     "text": [
      "Наибольшая выживаемость у ценовой категории <15: 136\n"
     ]
    },
    {
     "name": "stderr",
     "output_type": "stream",
     "text": [
      "C:\\Users\\stepg\\AppData\\Local\\Temp\\ipykernel_17964\\1016207251.py:12: FutureWarning: The default of observed=False is deprecated and will be changed to True in a future version of pandas. Pass observed=False to retain current behavior or observed=True to adopt the future default and silence this warning.\n",
      "  maxlst1.append(tit.groupby('Fare_Category')['Survived'].sum()[i])\n",
      "C:\\Users\\stepg\\AppData\\Local\\Temp\\ipykernel_17964\\1016207251.py:12: FutureWarning: Series.__getitem__ treating keys as positions is deprecated. In a future version, integer keys will always be treated as labels (consistent with DataFrame behavior). To access a value by position, use `ser.iloc[pos]`\n",
      "  maxlst1.append(tit.groupby('Fare_Category')['Survived'].sum()[i])\n"
     ]
    }
   ],
   "source": [
    "# создаём 4 категорий цен\n",
    "tit['Fare_Category'] = pd.cut(tit['Fare'], bins=[0, 15, 30, 100, 513], labels=['<15', '15-30', '30-100', '100+'])\n",
    "\n",
    "plt.figure(figsize=[8, 6])\n",
    "plt.title(\"Выживаемость по ценам на билет\")\n",
    "plt.ylabel(\"Количество выживших\")\n",
    "plt.xlabel(\"Категории цен билетов\")\n",
    "sns.barplot(x='Fare_Category', y='Survived', data=tit, errorbar=None, estimator=sum, hue=\"Fare_Category\") \n",
    "plt.show()\n",
    "maxlst1 = []\n",
    "for i in range(1,len(['<15', '15-30', '30-100', '100+'])):\n",
    "    maxlst1.append(tit.groupby('Fare_Category')['Survived'].sum()[i])\n",
    "spis1 = [\n",
    "    fare\n",
    "    for fare, count1 in tit.groupby('Fare')['Survived'].sum().to_dict().items() \n",
    "    if count1 == max(maxlst1)\n",
    "]\n",
    "print(f\"Наибольшая выживаемость у ценовой категории {['<15', '15-30', '30-100', '100+'][spis[0]-1]}: {max(maxlst)}\")\n"
   ]
  },
  {
   "cell_type": "code",
   "execution_count": 274,
   "id": "349f385b",
   "metadata": {},
   "outputs": [
    {
     "data": {
      "image/png": "[encoded data removed]",
      "text/plain": [
       "<Figure size 800x600 with 1 Axes>"
      ]
     },
     "metadata": {},
     "output_type": "display_data"
    },
    {
     "name": "stderr",
     "output_type": "stream",
     "text": [
      "C:\\Users\\stepg\\AppData\\Local\\Temp\\ipykernel_17964\\579363456.py:12: FutureWarning: The default of observed=False is deprecated and will be changed to True in a future version of pandas. Pass observed=False to retain current behavior or observed=True to adopt the future default and silence this warning.\n",
      "  maxlst2.append(tit.groupby('Age_Category')['Survived'].sum()[i])\n",
      "C:\\Users\\stepg\\AppData\\Local\\Temp\\ipykernel_17964\\579363456.py:12: FutureWarning: Series.__getitem__ treating keys as positions is deprecated. In a future version, integer keys will always be treated as labels (consistent with DataFrame behavior). To access a value by position, use `ser.iloc[pos]`\n",
      "  maxlst2.append(tit.groupby('Age_Category')['Survived'].sum()[i])\n"
     ]
    },
    {
     "ename": "IndexError",
     "evalue": "list index out of range",
     "output_type": "error",
     "traceback": [
      "\u001b[31m---------------------------------------------------------------------------\u001b[39m",
      "\u001b[31mIndexError\u001b[39m                                Traceback (most recent call last)",
      "\u001b[36mCell\u001b[39m\u001b[36m \u001b[39m\u001b[32mIn[274]\u001b[39m\u001b[32m, line 18\u001b[39m\n\u001b[32m     12\u001b[39m     maxlst2.append(tit.groupby(\u001b[33m'\u001b[39m\u001b[33mAge_Category\u001b[39m\u001b[33m'\u001b[39m)[\u001b[33m'\u001b[39m\u001b[33mSurvived\u001b[39m\u001b[33m'\u001b[39m].sum()[i])\n\u001b[32m     13\u001b[39m spis2 = [\n\u001b[32m     14\u001b[39m     age\n\u001b[32m     15\u001b[39m     \u001b[38;5;28;01mfor\u001b[39;00m age, count2 \u001b[38;5;129;01min\u001b[39;00m tit.groupby(\u001b[33m'\u001b[39m\u001b[33mAge\u001b[39m\u001b[33m'\u001b[39m)[\u001b[33m'\u001b[39m\u001b[33mSurvived\u001b[39m\u001b[33m'\u001b[39m].sum().to_dict().items() \n\u001b[32m     16\u001b[39m     \u001b[38;5;28;01mif\u001b[39;00m count2 == \u001b[38;5;28mmax\u001b[39m(maxlst2)\n\u001b[32m     17\u001b[39m ]\n\u001b[32m---> \u001b[39m\u001b[32m18\u001b[39m \u001b[38;5;28mprint\u001b[39m(\u001b[33mf\u001b[39m\u001b[33m\"\u001b[39m\u001b[33mНаибольшая выживаемость у возрастной категории \u001b[39m\u001b[38;5;132;01m{\u001b[39;00m[\u001b[33m'\u001b[39m\u001b[33m<18\u001b[39m\u001b[33m'\u001b[39m,\u001b[38;5;250m \u001b[39m\u001b[33m'\u001b[39m\u001b[33m18-65\u001b[39m\u001b[33m'\u001b[39m,\u001b[38;5;250m \u001b[39m\u001b[33m'\u001b[39m\u001b[33m65+\u001b[39m\u001b[33m'\u001b[39m][\u001b[43mspis2\u001b[49m\u001b[43m[\u001b[49m\u001b[32;43m0\u001b[39;49m\u001b[43m]\u001b[49m]\u001b[38;5;132;01m}\u001b[39;00m\u001b[33m: \u001b[39m\u001b[38;5;132;01m{\u001b[39;00m\u001b[38;5;28mmax\u001b[39m(maxlst2)\u001b[38;5;132;01m}\u001b[39;00m\u001b[33m\"\u001b[39m)\n",
      "\u001b[31mIndexError\u001b[39m: list index out of range"
     ]
    }
   ],
   "source": [
    "# создаём 4 категорий цен\n",
    "tit['Age_Category'] = pd.cut(tit['Age'], bins=[0, 18, 65, 513], labels=['<18', '18-65', '65+'])\n",
    "\n",
    "plt.figure(figsize=[8, 6])\n",
    "plt.title(\"Выживаемость по возрасту\")\n",
    "plt.ylabel(\"Количество выживших\")\n",
    "plt.xlabel(\"Возраст\")\n",
    "sns.barplot(x='Fare_Category', y='Survived', data=tit, errorbar=None, estimator=sum, hue=\"Fare_Category\") \n",
    "plt.show()\n",
    "maxlst2 = []\n",
    "for i in range(1,len(['<18', '18-65', '65+'])):\n",
    "    maxlst2.append(tit.groupby('Age_Category')['Survived'].sum()[i])\n",
    "spis2 = [\n",
    "    age\n",
    "    for age, count2 in tit.groupby('Age')['Survived'].sum().to_dict().items() \n",
    "    if count2 == max(maxlst2)\n",
    "]\n",
    "print(f\"Наибольшая выживаемость у возрастной категории {['<18', '18-65', '65+'][spis2[0]]}: {max(maxlst2)}\")\n"
   ]
  },
  {
   "cell_type": "markdown",
   "id": "2b0af1b1",
   "metadata": {},
   "source": [
    "Итог: спопоставление цены и выживаемости сильно портит общий вывод, однако если допустить, что ценовые диапазоны не так важны, то можно сделать вывод, что шансы на выживание выше чем у остальных у женщин, едущих в первом классе"
   ]
  }
 ],
 "metadata": {
  "kernelspec": {
   "display_name": "Python 3",
   "language": "python",
   "name": "python3"
  },
  "language_info": {
   "codemirror_mode": {
    "name": "ipython",
    "version": 3
   },
   "file_extension": ".py",
   "mimetype": "text/x-python",
   "name": "python",
   "nbconvert_exporter": "python",
   "pygments_lexer": "ipython3",
   "version": "3.13.9"
  }
 },
 "nbformat": 4,
 "nbformat_minor": 5
}
