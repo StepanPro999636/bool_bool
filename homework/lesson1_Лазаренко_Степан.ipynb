{
  "nbformat": 4,
  "nbformat_minor": 0,
  "metadata": {
    "colab": {
      "provenance": [],
      "authorship_tag": "ABX9TyM4qNZuqUQOH6MJF9g2KXLb",
      "include_colab_link": true
    },
    "kernelspec": {
      "name": "python3",
      "display_name": "Python 3"
    },
    "language_info": {
      "name": "python"
    }
  },
  "cells": [
    {
      "cell_type": "markdown",
      "metadata": {
        "id": "view-in-github",
        "colab_type": "text"
      },
      "source": [
        "<a href=\"https://colab.research.google.com/github/StepanPro999636/bool_bool/blob/main/homework/lesson1_%D0%9B%D0%B0%D0%B7%D0%B0%D1%80%D0%B5%D0%BD%D0%BA%D0%BE_%D0%A1%D1%82%D0%B5%D0%BF%D0%B0%D0%BD.ipynb\" target=\"_parent\"><img src=\"https://colab.research.google.com/assets/colab-badge.svg\" alt=\"Open In Colab\"/></a>"
      ]
    },
    {
      "cell_type": "code",
      "execution_count": 8,
      "metadata": {
        "colab": {
          "base_uri": "https://localhost:8080/"
        },
        "id": "iQEe9rBY6ihg",
        "outputId": "79c279ca-dd51-4ffa-d8bb-a7969007f556"
      },
      "outputs": [
        {
          "output_type": "stream",
          "name": "stdout",
          "text": [
            "уравнение ax^2+bx+c=0\n",
            "Коэф. a:1\n",
            "Коэф. b:6\n",
            "Коэф. c:9\n",
            "(1x^2)+(6x)+(9)=0\n",
            "x=-3.0\n"
          ]
        }
      ],
      "source": [
        "#Задание 1\n",
        "\n",
        "print(\"уравнение ax^2+bx+c=0\")\n",
        "a = int(input(\"Коэф. a:\"))\n",
        "b = int(input(\"Коэф. b:\"))\n",
        "c = int(input(\"Коэф. c:\"))\n",
        "D = b**2-4*a*c\n",
        "if D>0:\n",
        "  print(f\"({a}x^2)+({b}x)+({c})=0\")\n",
        "  print(f\"x1= {(-b+D**0.5)/2*a}\")\n",
        "  print(f\"x2={(-b-D**0.5)/2*a}\")\n",
        "elif D==0:\n",
        "    print(f\"({a}x^2)+({b}x)+({c})=0\")\n",
        "    print(f\"x={(-b+D**0.5)/2*a}\")\n",
        "else:\n",
        "  print(\"Нет корней\")"
      ]
    },
    {
      "cell_type": "code",
      "source": [
        "#Задание 2\n",
        "\n",
        "a = []\n",
        "N = int(input(\"Введите число N: \"))\n",
        "for i in range(1,N+1):\n",
        "  a.append(i)\n",
        "print(f\"Сумма чисел от {1} до {N} равна {sum(a)}\")"
      ],
      "metadata": {
        "colab": {
          "base_uri": "https://localhost:8080/"
        },
        "id": "dXAMuD557NgA",
        "outputId": "0bb2833d-223b-455d-e802-939f1f17756a"
      },
      "execution_count": 13,
      "outputs": [
        {
          "output_type": "stream",
          "name": "stdout",
          "text": [
            "Введите число N: 29\n",
            "Сумма чисел от 1 до 29 равна 435\n"
          ]
        }
      ]
    },
    {
      "cell_type": "code",
      "source": [
        "#Задание 3\n",
        "\n",
        "import math\n",
        "\n",
        "a = int(input(\"Введите номер квартиры: \"))\n",
        "print(f\"Подъезд: {math.ceil(a/20)}\")\n",
        "print(f\"Этаж: ...\") #Я так и не понял как искать этаж в доме, где больще 1 подъезда\n"
      ],
      "metadata": {
        "colab": {
          "base_uri": "https://localhost:8080/"
        },
        "id": "-mgvPhFq9yAC",
        "outputId": "1375ea4b-62bb-4fe8-a682-40390eaa21da"
      },
      "execution_count": 70,
      "outputs": [
        {
          "output_type": "stream",
          "name": "stdout",
          "text": [
            "Введите номер квартиры: 30\n",
            "Подъезд: 2\n",
            "Этаж: 2\n"
          ]
        }
      ]
    }
  ]
}