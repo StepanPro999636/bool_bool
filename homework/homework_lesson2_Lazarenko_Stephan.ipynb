{
  "nbformat": 4,
  "nbformat_minor": 0,
  "metadata": {
    "colab": {
      "provenance": [],
      "authorship_tag": "ABX9TyPEegHhKJzNe2nmyhnpwcSS",
      "include_colab_link": true
    },
    "kernelspec": {
      "name": "python3",
      "display_name": "Python 3"
    },
    "language_info": {
      "name": "python"
    }
  },
  "cells": [
    {
      "cell_type": "markdown",
      "metadata": {
        "id": "view-in-github",
        "colab_type": "text"
      },
      "source": [
        "<a href=\"https://colab.research.google.com/github/StepanPro999636/bool_bool/blob/main/homework/homework_lesson2_Lazarenko_Stephan.ipynb\" target=\"_parent\"><img src=\"https://colab.research.google.com/assets/colab-badge.svg\" alt=\"Open In Colab\"/></a>"
      ]
    },
    {
      "cell_type": "code",
      "source": [
        "import numpy as np"
      ],
      "metadata": {
        "id": "y4df9RltMX1V"
      },
      "execution_count": null,
      "outputs": []
    },
    {
      "cell_type": "code",
      "execution_count": null,
      "metadata": {
        "colab": {
          "base_uri": "https://localhost:8080/"
        },
        "id": "NKaghffhHth-",
        "outputId": "d2cd85e3-3dcf-40dc-9e19-6924d57fa02f"
      },
      "outputs": [
        {
          "output_type": "stream",
          "name": "stdout",
          "text": [
            "(array([ 0,  3,  6,  9, 12, 15, 18, 21, 24, 27]),)\n"
          ]
        }
      ],
      "source": [
        "#Задание 1\n",
        "\n",
        "arr = np.arange(1+2,30+1)\n",
        "print(np.where((arr)%3==0))\n",
        "#Я не знаю, что мне с этим where делать. Он поломан"
      ]
    },
    {
      "cell_type": "code",
      "source": [
        "#Задание 2\n",
        "\n",
        "mtrx = np.arange(1,30+1).reshape(6,5)\n",
        "print(\"Изначальная матрица 6x5:\\n\",mtrx,\"\\n\")\n",
        "mtrx = mtrx.reshape(5,6)\n",
        "print(\"Изменёная матрица 5x6:\\n\",mtrx,\"\\n\")\n",
        "print(\"Сумма по столбцам:\")\n",
        "for i in range(np.shape(mtrx)[1]): print(f\"{sum(mtrx[:,i])}\",end=\" \")\n",
        "\n",
        "\"\"\"код проходит по матице mtrx столько же раз, сколько в ней столбцов. получаю кол-во столбцов: shape(mtrx); создаётся кортеж со значениями (строки, столбцы); количество столбцов имеет индекс i,\n",
        "его я и использую в качестве счётчика для цикла for, который теперь при каждой итерации записывает в i индекс итерируемого столбца. далее просто получаем массив значений итерируемого столбца\n",
        "через mtrx[:,i] и суммируем их функцией sum()\"\"\""
      ],
      "metadata": {
        "colab": {
          "base_uri": "https://localhost:8080/",
          "height": 1000
        },
        "id": "ShDBEV8MJbJq",
        "outputId": "6be0dede-18f9-4f22-bcc2-efb4b5edc925"
      },
      "execution_count": null,
      "outputs": [
        {
          "output_type": "stream",
          "name": "stdout",
          "text": [
            "Изначальная матрица 6x5:\n",
            " [[ 1  2  3  4  5]\n",
            " [ 6  7  8  9 10]\n",
            " [11 12 13 14 15]\n",
            " [16 17 18 19 20]\n",
            " [21 22 23 24 25]\n",
            " [26 27 28 29 30]] \n",
            "\n",
            "Изменёная матрица 5x6:\n",
            " [[ 1  2  3  4  5  6]\n",
            " [ 7  8  9 10 11 12]\n",
            " [13 14 15 16 17 18]\n",
            " [19 20 21 22 23 24]\n",
            " [25 26 27 28 29 30]] \n",
            "\n",
            "Сумма по столбцам:\n",
            "65 70 75 80 85 90 "
          ]
        },
        {
          "output_type": "execute_result",
          "data": {
            "text/plain": [
              "'код проходит по матице mtrx столько же раз, сколько в ней столбцов. получаю кол-во столбцов: shape(mtrx); создаётся кортеж со значениями (строки, столбцы); количество столбцов имеет индекс i,\\nего я и использую в качестве счётчика для цикла for, который теперь при каждой итерации записывает в i индекс итерируемого столбца. далее просто получаем массив значений итерируемого столбца\\nчерез mtrx[:,i] и суммируем их функцией sum()'"
            ],
            "application/vnd.google.colaboratory.intrinsic+json": {
              "type": "string"
            }
          },
          "metadata": {},
          "execution_count": 107
        }
      ]
    },
    {
      "cell_type": "code",
      "source": [
        "#Задание 3\n",
        "\n",
        "lst1 = np.random.randint(1,10+1,size=(1,10))\n",
        "lst2 = np.random.randint(1,10+1,size=(1,10))\n",
        "print(f\"lst1 = {lst1}\")\n",
        "print(f\"lst2 = {lst2}\")\n",
        "print(f\"lst1 * lst2 = {lst1*lst2}\")\n"
      ],
      "metadata": {
        "colab": {
          "base_uri": "https://localhost:8080/"
        },
        "id": "J6KaIB8cfdXN",
        "outputId": "9f8e8649-510f-41c5-abc7-fbe915bbf4df"
      },
      "execution_count": null,
      "outputs": [
        {
          "output_type": "stream",
          "name": "stdout",
          "text": [
            "lst1 = [[6 7 9 5 8 3 4 4 7 8]]\n",
            "lst2 = [[ 3  6 10  4  5  2  1  5  9  4]]\n",
            "lst1 * lst2 = [[18 42 90 20 40  6  4 20 63 32]]\n"
          ]
        }
      ]
    }
  ]
}